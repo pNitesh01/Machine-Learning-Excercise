{
 "cells": [
  {
   "cell_type": "markdown",
   "metadata": {},
   "source": [
    "# Lists, Sets, Dictionaries and Tuples"
   ]
  },
  {
   "cell_type": "markdown",
   "metadata": {},
   "source": [
    "## Boolean Variables"
   ]
  },
  {
   "cell_type": "code",
   "execution_count": 5,
   "metadata": {},
   "outputs": [
    {
     "name": "stdout",
     "output_type": "stream",
     "text": [
      "False\n",
      "False\n",
      "False\n",
      "False\n",
      "True\n",
      "False\n",
      "False\n",
      "True\n",
      "True\n"
     ]
    }
   ],
   "source": [
    "myName = \"John Doe\"\n",
    "print(myName.isalnum())\n",
    "print(myName.isdecimal())\n",
    "print(myName.islower())\n",
    "print(myName.isupper())\n",
    "print(myName.startswith(\"J\"))\n",
    "print(myName.endswith(\"p\"))\n",
    "\n",
    "print(True and False)\n",
    "print(True or False)\n",
    "print(not False)"
   ]
  },
  {
   "cell_type": "markdown",
   "metadata": {},
   "source": [
    "## Lists"
   ]
  },
  {
   "cell_type": "code",
   "execution_count": null,
   "metadata": {},
   "outputs": [],
   "source": [
    "# List items are ordered, changeable, and allow duplicate values."
   ]
  },
  {
   "cell_type": "code",
   "execution_count": 11,
   "metadata": {},
   "outputs": [
    {
     "data": {
      "text/plain": [
       "list"
      ]
     },
     "execution_count": 11,
     "metadata": {},
     "output_type": "execute_result"
    }
   ],
   "source": [
    "lst1 = []\n",
    "lst2 = list()\n",
    "type(lst1)"
   ]
  },
  {
   "cell_type": "code",
   "execution_count": 25,
   "metadata": {},
   "outputs": [
    {
     "name": "stdout",
     "output_type": "stream",
     "text": [
      "['Physics', 'Chemistry', 'Maths', 100, 150]\n",
      "5\n",
      "['Physics', 'Chemistry', 'Maths', 100, 150, 'Biology']\n",
      "['Chemistry', 'Maths', 100, 150, 'Biology']\n",
      "['Physics', 'Chemistry', 'Maths', 100, 150, 'Biology', ['Mammal', 'Fish', 'Bird']]\n",
      "['Physics', 'Chemistry', 'Maths', 'Literature', 100, 150, 'Biology', ['Mammal', 'Fish', 'Bird']]\n",
      "['Physics', 'Chemistry', 'Maths', 'Literature', 100, 150, 'Biology', ['Mammal', 'Fish', 'Bird'], 1001, 2002, 100]\n",
      "2\n",
      "1\n",
      "['Physics', 'Chemistry', 'Maths', 'Literature', 100, 150, 'Biology', ['Mammal', 'Fish', 'Bird'], 1001, 2002]\n",
      "['Physics', 'Chemistry', 'Maths', 'Literature', 100, 150, 'Biology', ['Mammal', 'Fish', 'Bird'], 1001, 2002, 'Physics', 'Chemistry', 'Maths', 'Literature', 100, 150, 'Biology', ['Mammal', 'Fish', 'Bird'], 1001, 2002]\n"
     ]
    }
   ],
   "source": [
    "lst = [\"Physics\", \"Chemistry\", \"Maths\", 100, 150]\n",
    "print(lst)\n",
    "print(len(lst))\n",
    "\n",
    "lst.append(\"Biology\")\n",
    "print(lst)\n",
    "print(lst[1:])\n",
    "\n",
    "lst.append([\"Mammal\", \"Fish\", \"Bird\"])\n",
    "print(lst)\n",
    "\n",
    "lst.insert(3, \"Literature\")\n",
    "print(lst)\n",
    "\n",
    "lst.extend([1001, 2002, 100])\n",
    "print(lst)\n",
    "\n",
    "print(lst.count(100))\n",
    "\n",
    "print(lst.index(\"Chemistry\"))\n",
    "\n",
    "lst.pop()\n",
    "print(lst)\n",
    "\n",
    "print(lst*2)"
   ]
  },
  {
   "cell_type": "markdown",
   "metadata": {},
   "source": [
    "## Sets"
   ]
  },
  {
   "cell_type": "code",
   "execution_count": 26,
   "metadata": {},
   "outputs": [],
   "source": [
    "# Set items are unordered, unchangeable, and do not allow duplicate values."
   ]
  },
  {
   "cell_type": "code",
   "execution_count": 30,
   "metadata": {},
   "outputs": [
    {
     "data": {
      "text/plain": [
       "set"
      ]
     },
     "execution_count": 30,
     "metadata": {},
     "output_type": "execute_result"
    }
   ],
   "source": [
    "st1 = set()\n",
    "st2 = {\"IronMan\", \"BatMan\", \"SpiderMan\"}\n",
    "type(st2)"
   ]
  },
  {
   "cell_type": "code",
   "execution_count": 38,
   "metadata": {},
   "outputs": [
    {
     "name": "stdout",
     "output_type": "stream",
     "text": [
      "{'IronMan', 'SpiderMan', 'BatMan'}\n",
      "{'IronMan', 'SpiderMan', 'BatMan', 'Hulk'}\n",
      "{'B', 'A'}\n",
      "{'C', 'D'}\n"
     ]
    }
   ],
   "source": [
    "st = {\"IronMan\", \"BatMan\", \"SpiderMan\"}\n",
    "print(st)\n",
    "\n",
    "st.add(\"Hulk\")\n",
    "print(st)\n",
    "\n",
    "set1 = {\"A\", \"B\", \"C\", \"D\"}\n",
    "set2 = {\"A\", \"B\", \"X\", \"Y\"}\n",
    "\n",
    "print(set1.intersection(set2))\n",
    "print(set1.difference(set2))"
   ]
  },
  {
   "cell_type": "markdown",
   "metadata": {},
   "source": [
    "## Dictionaries"
   ]
  },
  {
   "cell_type": "code",
   "execution_count": 39,
   "metadata": {},
   "outputs": [],
   "source": [
    "# Dictionary items are ordered, changeable, and does not allow duplicates.\n",
    "# Dictionary items are presented in key:value pairs."
   ]
  },
  {
   "cell_type": "code",
   "execution_count": 43,
   "metadata": {},
   "outputs": [
    {
     "data": {
      "text/plain": [
       "dict"
      ]
     },
     "execution_count": 43,
     "metadata": {},
     "output_type": "execute_result"
    }
   ],
   "source": [
    "dic1 = {}\n",
    "dic2 = {\"Car1\": \"Audi\", \"Car2\": \"BMW\", \"Car3\": \"Ferrari\"}\n",
    "type(dic1)"
   ]
  },
  {
   "cell_type": "code",
   "execution_count": 49,
   "metadata": {},
   "outputs": [
    {
     "name": "stdout",
     "output_type": "stream",
     "text": [
      "Audi\n",
      "Car1\n",
      "Car2\n",
      "Car3\n",
      "Audi\n",
      "BMW\n",
      "Ferrari\n",
      "('Car1', 'Audi')\n",
      "('Car2', 'BMW')\n",
      "('Car3', 'Ferrari')\n",
      "{'Car1': 'Audi', 'Car2': 'BMW', 'Car3': 'Ferrari', 'Car4': 'Lambhorgini'}\n"
     ]
    }
   ],
   "source": [
    "dic2 = {\"Car1\": \"Audi\", \"Car2\": \"BMW\", \"Car3\": \"Ferrari\"}\n",
    "\n",
    "##Access item using key\n",
    "print(dic2[\"Car1\"])\n",
    "\n",
    "# Looping over keys\n",
    "for x in dic2:\n",
    "    print(x)\n",
    "    \n",
    "# Looping over values\n",
    "for x in dic2.values():\n",
    "    print(x)\n",
    "    \n",
    "# Looping over keys and values\n",
    "for x in dic2.items():\n",
    "    print(x)\n",
    "    \n",
    "dic2[\"Car4\"] = \"Lambhorgini\"\n",
    "print(dic2)"
   ]
  },
  {
   "cell_type": "markdown",
   "metadata": {},
   "source": [
    "### Nested Dictionary"
   ]
  },
  {
   "cell_type": "code",
   "execution_count": 50,
   "metadata": {},
   "outputs": [
    {
     "name": "stdout",
     "output_type": "stream",
     "text": [
      "{'car1': {'Mercedes': 1960}, 'car2': {'Audi': 1970}, 'car3': {'BMW': 1980}}\n"
     ]
    }
   ],
   "source": [
    "car1_model = {\"Mercedes\": 1960}\n",
    "car2_model = {\"Audi\": 1970}\n",
    "car3_model = {\"BMW\": 1980}\n",
    "\n",
    "car_type = {\"car1\": car1_model, \"car2\": car2_model, \"car3\": car3_model}\n",
    "print(car_type)"
   ]
  },
  {
   "cell_type": "code",
   "execution_count": 53,
   "metadata": {},
   "outputs": [
    {
     "name": "stdout",
     "output_type": "stream",
     "text": [
      "{'Mercedes': 1960}\n",
      "1960\n"
     ]
    }
   ],
   "source": [
    "## Access item in nested dictionary\n",
    "print(car_type[\"car1\"])\n",
    "\n",
    "print(car_type[\"car1\"][\"Mercedes\"])"
   ]
  },
  {
   "cell_type": "markdown",
   "metadata": {},
   "source": [
    "# Tuples"
   ]
  },
  {
   "cell_type": "code",
   "execution_count": null,
   "metadata": {},
   "outputs": [],
   "source": [
    "# Tuple items are ordered, unchangeable, and allow duplicate values."
   ]
  },
  {
   "cell_type": "code",
   "execution_count": 54,
   "metadata": {},
   "outputs": [
    {
     "data": {
      "text/plain": [
       "tuple"
      ]
     },
     "execution_count": 54,
     "metadata": {},
     "output_type": "execute_result"
    }
   ],
   "source": [
    "tple = ()\n",
    "type(tple)"
   ]
  },
  {
   "cell_type": "code",
   "execution_count": 60,
   "metadata": {},
   "outputs": [
    {
     "name": "stdout",
     "output_type": "stream",
     "text": [
      "('Adam', 'Brian', 'Charles')\n",
      "Brian\n",
      "{1, 2, 3}\n"
     ]
    }
   ],
   "source": [
    "myTuple = (\"Adam\", \"Brian\", \"Charles\")\n",
    "print(myTuple)\n",
    "print(myTuple[1])\n",
    "\n",
    "#Tuple is immutable\n",
    "# myTuple[1] = \"John\"\n",
    "myTuple = {1, 2, 3}\n",
    "print(myTuple)"
   ]
  }
 ],
 "metadata": {
  "kernelspec": {
   "display_name": "Python 3",
   "language": "python",
   "name": "python3"
  },
  "language_info": {
   "codemirror_mode": {
    "name": "ipython",
    "version": 3
   },
   "file_extension": ".py",
   "mimetype": "text/x-python",
   "name": "python",
   "nbconvert_exporter": "python",
   "pygments_lexer": "ipython3",
   "version": "3.7.6"
  }
 },
 "nbformat": 4,
 "nbformat_minor": 4
}
